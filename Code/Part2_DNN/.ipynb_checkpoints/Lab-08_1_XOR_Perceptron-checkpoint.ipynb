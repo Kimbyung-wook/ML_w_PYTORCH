{
 "cells": [
  {
   "cell_type": "code",
   "execution_count": 1,
   "metadata": {},
   "outputs": [],
   "source": [
    "import numpy\n",
    "import torch"
   ]
  },
  {
   "cell_type": "code",
   "execution_count": 2,
   "metadata": {},
   "outputs": [],
   "source": [
    "device = 'cuda' if torch.cuda.is_available() else 'cpu'\n",
    "\n",
    "# for reproducibility\n",
    "torch.manual_seed(777)\n",
    "if device == 'cuda':\n",
    "    torch.cuda.manual_seed_all(777)"
   ]
  },
  {
   "cell_type": "code",
   "execution_count": 3,
   "metadata": {},
   "outputs": [
    {
     "name": "stdout",
     "output_type": "stream",
     "text": [
      "tensor([[0., 0.],\n",
      "        [0., 1.],\n",
      "        [1., 0.],\n",
      "        [1., 1.]], device='cuda:0')\n",
      "tensor([[0.],\n",
      "        [1.],\n",
      "        [1.],\n",
      "        [0.]], device='cuda:0')\n"
     ]
    }
   ],
   "source": [
    "X = torch.FloatTensor([0,0, 0,1, 1,0, 1,1]).reshape(-1,2).to(device)\n",
    "Y = torch.FloatTensor([0,1,1,0]).reshape(-1,1).to(device)\n",
    "print(X)\n",
    "print(Y)"
   ]
  },
  {
   "cell_type": "code",
   "execution_count": 4,
   "metadata": {},
   "outputs": [],
   "source": [
    "# nn layers\n",
    "linear = torch.nn.Linear(2,1,bias=True)\n",
    "sigmoid = torch.nn.Sigmoid()\n",
    "model = torch.nn.Sequential(linear,sigmoid).to(device)"
   ]
  },
  {
   "cell_type": "code",
   "execution_count": 5,
   "metadata": {},
   "outputs": [],
   "source": [
    "# Define cost/loss & Optimizer\n",
    "criterion = torch.nn.BCELoss().to(device)\n",
    "optimizer = torch.optim.SGD(model.parameters(),lr=1)"
   ]
  },
  {
   "cell_type": "code",
   "execution_count": 10,
   "metadata": {},
   "outputs": [
    {
     "name": "stdout",
     "output_type": "stream",
     "text": [
      "0.0 0 Step      0 - log(Cost) -0.3665129178\n",
      "2.0 0.0 Step      2 - log(Cost) -0.3665129178\n",
      "3.0 2.0 Step      3 - log(Cost) -0.3665129178\n",
      "4.0 3.0 Step      4 - log(Cost) -0.3665129178\n",
      "5.0 4.0 Step      5 - log(Cost) -0.3665129178\n",
      "6.0 5.0 Step      6 - log(Cost) -0.3665129178\n",
      "7.0 6.0 Step      7 - log(Cost) -0.3665129178\n",
      "8.0 7.0 Step      8 - log(Cost) -0.3665129178\n",
      "9.0 8.0 Step      9 - log(Cost) -0.3665129178\n",
      "9.0 9.0 Step     90 - log(Cost) -0.3665129178\n",
      "9.1 9.0 Step     91 - log(Cost) -0.3665129178\n",
      "9.2 9.1 Step     92 - log(Cost) -0.3665129178\n",
      "9.3 9.2 Step     93 - log(Cost) -0.3665129178\n",
      "9.4 9.3 Step     94 - log(Cost) -0.3665129178\n",
      "9.5 9.4 Step     95 - log(Cost) -0.3665129178\n",
      "9.6 9.5 Step     96 - log(Cost) -0.3665129178\n",
      "9.7 9.6 Step     97 - log(Cost) -0.3665129178\n",
      "9.8 9.7 Step     98 - log(Cost) -0.3665129178\n",
      "9.9 9.8 Step     99 - log(Cost) -0.3665129178\n",
      "9.9 9.9 Step    990 - log(Cost) -0.3665129178\n",
      "9.91 9.9 Step    991 - log(Cost) -0.3665129178\n",
      "9.92 9.91 Step    992 - log(Cost) -0.3665129178\n",
      "9.93 9.92 Step    993 - log(Cost) -0.3665129178\n",
      "9.94 9.93 Step    994 - log(Cost) -0.3665129178\n",
      "9.95 9.94 Step    995 - log(Cost) -0.3665129178\n",
      "9.96 9.95 Step    996 - log(Cost) -0.3665129178\n",
      "9.97 9.96 Step    997 - log(Cost) -0.3665129178\n",
      "9.98 9.97 Step    998 - log(Cost) -0.3665129178\n",
      "9.99 9.98 Step    999 - log(Cost) -0.3665129178\n",
      "9.99 9.99 Step   9990 - log(Cost) -0.3665129178\n",
      "9.991 9.99 Step   9991 - log(Cost) -0.3665129178\n",
      "9.992 9.991 Step   9992 - log(Cost) -0.3665129178\n",
      "9.993 9.992 Step   9993 - log(Cost) -0.3665129178\n",
      "9.994 9.993 Step   9994 - log(Cost) -0.3665129178\n",
      "9.995 9.994 Step   9995 - log(Cost) -0.3665129178\n",
      "9.996 9.995 Step   9996 - log(Cost) -0.3665129178\n",
      "9.997 9.996 Step   9997 - log(Cost) -0.3665129178\n",
      "9.998 9.997 Step   9998 - log(Cost) -0.3665129178\n",
      "9.999 9.998 Step   9999 - log(Cost) -0.3665129178\n"
     ]
    }
   ],
   "source": [
    "digits = 0.1\n",
    "MaxQ = 0\n",
    "for step in range(10001):\n",
    "    optimizer.zero_grad()\n",
    "    hypothesis = model(X)\n",
    "    \n",
    "    # cost/loss function\n",
    "    cost = criterion(hypothesis, Y)\n",
    "    cost.backward()\n",
    "    optimizer.step()\n",
    "    \n",
    "    quotient = int(step / digits)\n",
    "    if(quotient < 10):\n",
    "        if(MaxQ <= quotient):\n",
    "            print('{} {} Step {:6d} - log(Cost) {:.10f}'.format(\n",
    "                quotient,MaxQ,step,numpy.log(cost.item())))\n",
    "            MaxQ = quotient\n",
    "#     if step % 100 == 0:\n",
    "    else:\n",
    "        digits *= 10"
   ]
  },
  {
   "cell_type": "code",
   "execution_count": 7,
   "metadata": {},
   "outputs": [
    {
     "name": "stdout",
     "output_type": "stream",
     "text": [
      "\n",
      "Hypothesis:  [[0.5]\n",
      " [0.5]\n",
      " [0.5]\n",
      " [0.5]] \n",
      "Correct:  [[0.]\n",
      " [0.]\n",
      " [0.]\n",
      " [0.]] \n",
      "Accuracy:  0.5\n"
     ]
    }
   ],
   "source": [
    "# Accuracy computation\n",
    "# True if hypothesis>0.5 else False\n",
    "with torch.no_grad():\n",
    "    hypothesis = model(X)\n",
    "    predicted = (hypothesis > 0.5).float()\n",
    "    accuracy = (predicted == Y).float().mean()\n",
    "    print('\\nHypothesis: ', hypothesis.detach().cpu().numpy(),\n",
    "          '\\nCorrect: ', predicted.detach().cpu().numpy(),\n",
    "          '\\nAccuracy: ', accuracy.item())"
   ]
  }
 ],
 "metadata": {
  "kernelspec": {
   "display_name": "Python 3",
   "language": "python",
   "name": "python3"
  },
  "language_info": {
   "codemirror_mode": {
    "name": "ipython",
    "version": 3
   },
   "file_extension": ".py",
   "mimetype": "text/x-python",
   "name": "python",
   "nbconvert_exporter": "python",
   "pygments_lexer": "ipython3",
   "version": "3.6.9"
  }
 },
 "nbformat": 4,
 "nbformat_minor": 4
}
