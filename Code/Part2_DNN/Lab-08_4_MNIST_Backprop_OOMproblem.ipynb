{
 "cells": [
  {
   "cell_type": "code",
   "execution_count": null,
   "metadata": {},
   "outputs": [],
   "source": [
    "import torch\n",
    "from torchvision import datasets, transforms\n",
    "import matplotlib.pyplot as plt"
   ]
  },
  {
   "cell_type": "code",
   "execution_count": null,
   "metadata": {},
   "outputs": [],
   "source": [
    "device = 'cuda' if torch.cuda.is_available() else 'cpu'\n",
    "# device = 'cpu'\n",
    "# For reproductibility\n",
    "torch.manual_seed(777)\n",
    "if device == 'cuda':\n",
    "    torch.cuda.manual_seed_all(777)"
   ]
  },
  {
   "cell_type": "code",
   "execution_count": null,
   "metadata": {},
   "outputs": [],
   "source": [
    "# parameters\n",
    "batch_size = 10\n",
    "\n",
    "# MNIST dataset\n",
    "transform = transforms.Compose([transforms.ToTensor()])\n",
    "mnist_train = datasets.MNIST(root=\"../MNIST_data/\",train=True,\n",
    "                          transform=transform, download=False)\n",
    "mnist_test  = datasets.MNIST(root=\"../MNIST_data/\",train=False,\n",
    "                          transform=transform, download=False)\n",
    "\n",
    "# Dataset Loader\n",
    "data_loader = torch.utils.data.DataLoader(dataset=mnist_train,\n",
    "                                          batch_size=batch_size,\n",
    "                                          shuffle=True,\n",
    "                                          drop_last=True)"
   ]
  },
  {
   "cell_type": "code",
   "execution_count": null,
   "metadata": {},
   "outputs": [],
   "source": [
    "W1 = torch.nn.Parameter(torch.Tensor(784,30)).to(device)\n",
    "b1 = torch.nn.Parameter(torch.Tensor(30)).to(device)\n",
    "W2 = torch.nn.Parameter(torch.Tensor(30,10)).to(device)\n",
    "b2 = torch.nn.Parameter(torch.Tensor(10)).to(device)\n",
    "\n",
    "torch.nn.init.normal_(W1)\n",
    "torch.nn.init.normal_(b1)\n",
    "torch.nn.init.normal_(W2)\n",
    "torch.nn.init.normal_(b2)"
   ]
  },
  {
   "cell_type": "code",
   "execution_count": null,
   "metadata": {},
   "outputs": [],
   "source": [
    "def sigmoid(x):\n",
    "    return 1.0 / (1.0 + torch.exp(-x))\n",
    "def dsigmoid(x):\n",
    "    return sigmoid(x) * (1 - sigmoid(x))"
   ]
  },
  {
   "cell_type": "code",
   "execution_count": null,
   "metadata": {},
   "outputs": [],
   "source": [
    "X_test = mnist_test.data.view(-1, 28 * 28).float().to(device)[:1000]\n",
    "Y_test = mnist_test.targets.to(device)[:1000]\n",
    "X_test.size()\n",
    "Y_test.size()"
   ]
  },
  {
   "cell_type": "code",
   "execution_count": null,
   "metadata": {},
   "outputs": [],
   "source": [
    "lr = 0.5\n",
    "for i in range(10000):\n",
    "    for X, Y in data_loader:\n",
    "        # forward\n",
    "        X = X.view(-1, 28 * 28).to(device)\n",
    "        Y = torch.zeros((batch_size, 10)).scatter_(1, Y.unsqueeze(1), 1).to(device)\n",
    "        # One-hot encoding\n",
    "        l1 = torch.add(torch.matmul(X ,W1),b1)\n",
    "        a1 = sigmoid(l1)\n",
    "        l2 = torch.add(torch.matmul(a1,W2),b2)\n",
    "        Ey = sigmoid(l2)\n",
    "        \n",
    "        \n",
    "        diff = Ey - Y\n",
    "        \n",
    "        # Backprop\n",
    "        dl2 = diff * dsigmoid(l2)\n",
    "        db2 = dl2\n",
    "        dW2 = torch.matmul(torch.transpose(a1,0,1), dl2)\n",
    "        \n",
    "        da1 = torch.matmul(dl2, torch.transpose(W2,0,1))\n",
    "        \n",
    "        dl1 = da1 * dsigmoid(l1)\n",
    "        db1 = dl1\n",
    "        dW1 = torch.matmul(torch.transpose(X,0,1), dl1)\n",
    "        \n",
    "        W1 = W1 - lr * dW1\n",
    "        b1 = b1 - lr * torch.mean(db1,0)\n",
    "        W2 = W2 - lr * dW2\n",
    "        b2 = b2 - lr * torch.mean(db2,0)\n",
    "        idx = i;\n",
    "    if idx % 1000 == 0:\n",
    "        # One-hot encoding\n",
    "        l1 = torch.add(torch.matmul(X_test,W1),b1)\n",
    "        a1 = sigmoid(l1)\n",
    "        l2 = torch.add(torch.matmul(a1,W2),b2)\n",
    "        Ey = sigmoid(l2)\n",
    "        accuracy_mat = torch.argmax(Ey,1) == Y_test\n",
    "        accuracy_res = accuracy_mat.sum()\n",
    "        print(\"{:5d} Accuracy : {}/{}\".format(i, accuracy_res,Y_test.size()))\n",
    "    del X\n",
    "    del Y"
   ]
  },
  {
   "cell_type": "code",
   "execution_count": null,
   "metadata": {},
   "outputs": [],
   "source": [
    "\n",
    "# model\n",
    "# model = torch.nn.Sequential(linear1,sigmoid,linear2,sigmoid,\n",
    "#                             linear3,sigmoid,linear4,sigmoid).to(device)"
   ]
  },
  {
   "cell_type": "code",
   "execution_count": null,
   "metadata": {},
   "outputs": [],
   "source": []
  }
 ],
 "metadata": {
  "kernelspec": {
   "display_name": "Python 3",
   "language": "python",
   "name": "python3"
  },
  "language_info": {
   "codemirror_mode": {
    "name": "ipython",
    "version": 3
   },
   "file_extension": ".py",
   "mimetype": "text/x-python",
   "name": "python",
   "nbconvert_exporter": "python",
   "pygments_lexer": "ipython3",
   "version": "3.6.9"
  }
 },
 "nbformat": 4,
 "nbformat_minor": 4
}
