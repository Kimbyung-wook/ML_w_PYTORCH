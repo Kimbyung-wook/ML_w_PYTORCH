{
 "cells": [
  {
   "cell_type": "code",
   "execution_count": 1,
   "metadata": {},
   "outputs": [
    {
     "data": {
      "text/plain": [
       "<torch._C.Generator at 0x7f22416e7d98>"
      ]
     },
     "execution_count": 1,
     "metadata": {},
     "output_type": "execute_result"
    }
   ],
   "source": [
    "import torch\n",
    "import torch.nn as nn\n",
    "import torch.nn.functional as F\n",
    "import torch.optim as optim\n",
    "\n",
    "# For reproductibility\n",
    "torch.manual_seed(1)"
   ]
  },
  {
   "cell_type": "code",
   "execution_count": 2,
   "metadata": {},
   "outputs": [],
   "source": [
    "# Routine 1 : Functionalize Actions\n",
    "# High-level Implementation with nn.Module\n",
    "class SoftmaxClassierModel(nn.Module):\n",
    "    def __init__(self):\n",
    "        super().__init__()\n",
    "        self.linear = nn.Linear(3,3)\n",
    "        \n",
    "    def forward(self,x):\n",
    "        return self.linear(x)"
   ]
  },
  {
   "cell_type": "code",
   "execution_count": 3,
   "metadata": {},
   "outputs": [],
   "source": [
    "# Define Train function\n",
    "def train(model, optimizer, x_train, y_train):\n",
    "    nb_epochs = 20\n",
    "    for epoch in range(nb_epochs+1):\n",
    "    \n",
    "        # get Cost(2) - F.cross_entropy\n",
    "        prediction = model(x_train)\n",
    "        cost = F.cross_entropy(prediction,y_train)\n",
    "\n",
    "        # Update H(x) from Cost\n",
    "        optimizer.zero_grad()\n",
    "        cost.backward()\n",
    "        optimizer.step()\n",
    "        \n",
    "        # print logs each hundreds\n",
    "        print('Epoch {:4d}/{} Cost : {:.6f}'.format(\n",
    "            epoch, nb_epochs, cost.item()))"
   ]
  },
  {
   "cell_type": "code",
   "execution_count": 4,
   "metadata": {},
   "outputs": [],
   "source": [
    "# Define Test function\n",
    "def test(model, optimizer, x_test, y_test):\n",
    "    prediction = model(x_test)\n",
    "    predicted_classes = prediction.max(1)[1]\n",
    "    correct_count = (predicted_classes == y_test).sum().item()\n",
    "    cost = F.cross_entropy(prediction, y_test)\n",
    "    \n",
    "    print('Accuracy {}/% Cost : {:.6f}'.format(\n",
    "        correct_count / len(y_test)*100, cost.item()))"
   ]
  },
  {
   "cell_type": "code",
   "execution_count": 5,
   "metadata": {},
   "outputs": [
    {
     "name": "stdout",
     "output_type": "stream",
     "text": [
      "tensor([[1., 2., 1.],\n",
      "        [1., 3., 2.],\n",
      "        [1., 3., 4.],\n",
      "        [1., 5., 5.],\n",
      "        [1., 7., 5.],\n",
      "        [1., 2., 5.],\n",
      "        [1., 6., 6.],\n",
      "        [1., 7., 7.]])\n",
      "tensor([2, 2, 2, 1, 1, 1, 0, 0])\n"
     ]
    }
   ],
   "source": [
    "# Define Train and Test Dataset\n",
    "x_train = torch.FloatTensor([1,2,1, 1,3,2, 1,3,4, 1,5,5,\n",
    "                             1,7,5, 1,2,5, 1,6,6, 1,7,7]).reshape(-1,3)\n",
    "y_train = torch.LongTensor([2,2,2,1,1,1,0,0])\n",
    "print(x_train)\n",
    "print(y_train)\n",
    "\n",
    "x_test = torch.FloatTensor([2,1,1, 3,1,2, 3,3,4]).reshape(-1,3)\n",
    "y_test = torch.LongTensor([2,2,2])\n",
    "\n",
    "# x_train = [1,2,1,1, 2,1,3,2, 3,1,3,4, 4,1,5,5, 1,7,5,5, 1,2,5,6, 1,6,6,6, 1,7,7,7]\n",
    "# y_train = [2,2,2,1,1,1,0,0]\n",
    "# x_train = torch.FloatTensor(x_train).reshape(-1,4)\n",
    "# y_train = torch.LongTensor(y_train)\n",
    "# print(x_train)\n",
    "# print(y_train)"
   ]
  },
  {
   "cell_type": "code",
   "execution_count": 9,
   "metadata": {},
   "outputs": [
    {
     "name": "stdout",
     "output_type": "stream",
     "text": [
      "Epoch    0/20 Cost : 1.280268\n",
      "Epoch    1/20 Cost : 1.007498\n",
      "Epoch    2/20 Cost : 0.999968\n",
      "Epoch    3/20 Cost : 0.992704\n",
      "Epoch    4/20 Cost : 0.985657\n",
      "Epoch    5/20 Cost : 0.978815\n",
      "Epoch    6/20 Cost : 0.972169\n",
      "Epoch    7/20 Cost : 0.965709\n",
      "Epoch    8/20 Cost : 0.959425\n",
      "Epoch    9/20 Cost : 0.953312\n",
      "Epoch   10/20 Cost : 0.947360\n",
      "Epoch   11/20 Cost : 0.941562\n",
      "Epoch   12/20 Cost : 0.935913\n",
      "Epoch   13/20 Cost : 0.930405\n",
      "Epoch   14/20 Cost : 0.925033\n",
      "Epoch   15/20 Cost : 0.919792\n",
      "Epoch   16/20 Cost : 0.914675\n",
      "Epoch   17/20 Cost : 0.909678\n",
      "Epoch   18/20 Cost : 0.904796\n",
      "Epoch   19/20 Cost : 0.900025\n",
      "Epoch   20/20 Cost : 0.895360\n",
      "Accuracy 100.0/% Cost : 0.376353\n"
     ]
    }
   ],
   "source": [
    "model = SoftmaxClassierModel()\n",
    "optimizer = optim.SGD(model.parameters(),lr = 0.1)\n",
    "train(model, optimizer, x_train, y_train)\n",
    "test(model,optimizer,x_test,y_test)"
   ]
  },
  {
   "cell_type": "code",
   "execution_count": null,
   "metadata": {},
   "outputs": [],
   "source": [
    "# Adjust Learning Rate\n",
    "optimizer = optim.SGD(model.parameters(),lr = 0.1)\n",
    "train(model, optimizer, x_train, y_train)\n",
    "test(model,optimizer,x_test,y_test)"
   ]
  },
  {
   "cell_type": "code",
   "execution_count": null,
   "metadata": {},
   "outputs": [],
   "source": [
    "# Routine 2 : Regulation - Batch Normalization\n",
    "# Data Preprocessing\n",
    "x_train = torch.FloatTensor([73,80,75, 93,88,93, 89,91,90, 96,98,100, 73,66,70]).reshape(-1,3)\n",
    "y_train = torch.FloatTensor([152,185,180,196,142]).reshape(-1,1)\n",
    "print(x_train)\n",
    "print(y_train)"
   ]
  },
  {
   "cell_type": "code",
   "execution_count": null,
   "metadata": {},
   "outputs": [],
   "source": [
    "mu    = x_train.mean(dim=0)\n",
    "sigma = x_train.std(dim=0)\n",
    "norm_x_train = (x_train - mu)/sigma\n",
    "print(norm_x_train)"
   ]
  },
  {
   "cell_type": "code",
   "execution_count": null,
   "metadata": {},
   "outputs": [],
   "source": [
    "# inherit nn.modules\n",
    "class MultiVariateLienarRegressionModel(nn.Module):\n",
    "    def __init__(self):\n",
    "        super().__init__()\n",
    "        self.linear = nn.Linear(3,1)\n",
    "        # Linear Model\n",
    "        # input elements  : 3\n",
    "        # output elements : 1\n",
    "        \n",
    "    # Hypothesis\n",
    "    def forward(self, x):\n",
    "        return self.linear(x)\n",
    "\n",
    "# Define Train function\n",
    "def train(model, optimizer, x_train, y_train):\n",
    "    nb_epochs = 20\n",
    "    for epoch in range(nb_epochs+1):\n",
    "    \n",
    "        # get Cost(2) - F.cross_entropy\n",
    "        prediction = model(x_train)\n",
    "        cost = F.mse_loss(prediction,y_train)\n",
    "\n",
    "        # Update H(x) from Cost\n",
    "        optimizer.zero_grad()\n",
    "        cost.backward()\n",
    "        optimizer.step()\n",
    "        \n",
    "        # print logs each hundreds\n",
    "        print('Epoch {:4d}/{} Cost : {:.6f}'.format(\n",
    "            epoch, nb_epochs, cost.item()))"
   ]
  },
  {
   "cell_type": "code",
   "execution_count": null,
   "metadata": {},
   "outputs": [],
   "source": [
    "model = MultiVariateLienarRegressionModel()\n",
    "optimizer = optim.SGD(model.parameters(),lr = 1e-1)\n",
    "train(model, optimizer, norm_x_train, y_train)"
   ]
  },
  {
   "cell_type": "code",
   "execution_count": null,
   "metadata": {},
   "outputs": [],
   "source": []
  }
 ],
 "metadata": {
  "kernelspec": {
   "display_name": "Python 3",
   "language": "python",
   "name": "python3"
  },
  "language_info": {
   "codemirror_mode": {
    "name": "ipython",
    "version": 3
   },
   "file_extension": ".py",
   "mimetype": "text/x-python",
   "name": "python",
   "nbconvert_exporter": "python",
   "pygments_lexer": "ipython3",
   "version": "3.6.9"
  }
 },
 "nbformat": 4,
 "nbformat_minor": 4
}
