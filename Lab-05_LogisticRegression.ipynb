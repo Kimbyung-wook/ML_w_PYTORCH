{
 "cells": [
  {
   "cell_type": "code",
   "execution_count": 1,
   "metadata": {},
   "outputs": [
    {
     "name": "stdout",
     "output_type": "stream",
     "text": [
      "torch.Size([6, 2])\n",
      "torch.Size([6, 1])\n"
     ]
    }
   ],
   "source": [
    "import torch\n",
    "import torch.nn as nn\n",
    "import torch.nn.functional as F\n",
    "import torch.optim as optim\n",
    "\n",
    "# For reproductibility\n",
    "torch.manual_seed(1)\n",
    "\n",
    "# Training Data\n",
    "x_data = [[1,2],[2,3],[3,1],[4,3],[5,3],[6,2]]\n",
    "y_data = [[0],[0],[0],[1],[1],[1]]\n",
    "x_train = torch.FloatTensor(x_data)\n",
    "y_train = torch.FloatTensor(y_data)\n",
    "print(x_train.shape)\n",
    "print(y_train.shape)"
   ]
  },
  {
   "cell_type": "code",
   "execution_count": null,
   "metadata": {},
   "outputs": [],
   "source": [
    "# Computing the hypothesis\n",
    "print('1/(1+e^{-1}) equals : ', torch.sigmoid(torch.FloatTensor([[1]])))\n"
   ]
  },
  {
   "cell_type": "code",
   "execution_count": null,
   "metadata": {},
   "outputs": [],
   "source": [
    "# Initialize Model\n",
    "W = torch.zeros([2,1],requires_grad=True)\n",
    "b = torch.zeros(1,requires_grad=True)\n",
    "prediction = torch.sigmoid(x_train.matmul(W) + b)\n",
    "print(prediction)\n",
    "print(prediction.shape)\n",
    "\n",
    "# Computing the Cost Function\n",
    "losses = -(y_train[0] * torch.log(prediction[0]) + (1-y_train[0])*torch.log(1-prediction[0]))\n",
    "print(losses)\n",
    "\n",
    "cost = losses.mean\n",
    "print(cost)\n",
    "\n",
    "# Same function above lines\n",
    "F.binary_cross_entropy(prediction, y_train)"
   ]
  },
  {
   "cell_type": "code",
   "execution_count": null,
   "metadata": {},
   "outputs": [],
   "source": [
    "# 1st Loop\n",
    "# Whole Training Procedure\n",
    "# Initialize Model\n",
    "W = torch.zeros([2,1],requires_grad=True)\n",
    "b = torch.zeros(1,requires_grad=True)\n",
    "prediction = torch.sigmoid(x_train.matmul(W) + b)\n",
    "print(prediction)\n",
    "print(prediction.shape)\n",
    "\n",
    "# set optimizer\n",
    "optimizer = optim.SGD([W,b],lr=1)\n",
    "\n",
    "nb_epochs = 1000\n",
    "for epoch in range(nb_epochs+1):\n",
    "    # get Cost\n",
    "    prediction = torch.sigmoid(x_train.matmul(W)+b)\n",
    "    cost = F.binary_cross_entropy(prediction, y_train)\n",
    "    \n",
    "    # Update H(x) from cost\n",
    "    optimizer.zero_grad()\n",
    "    cost.backward()\n",
    "    optimizer.step()\n",
    "    \n",
    "    # show logs each hundreds\n",
    "    if epoch % 100 == 0:\n",
    "        print('Epoch {:4d}/{} cost : {:.6f}'.format(\n",
    "            epoch, nb_epochs, cost.item()))"
   ]
  },
  {
   "cell_type": "code",
   "execution_count": null,
   "metadata": {},
   "outputs": [],
   "source": [
    "hypothesis = torch.sigmoid(x_train.matmul(W) + b)\n",
    "print(hypothesis[:5])\n",
    "prediction = hypothesis >= torch.FloatTensor([0.5])\n",
    "print(prediction[:5])\n",
    "print(y_train[:5])\n",
    "correct_prediction = prediction.float() == y_train\n",
    "print(correct_prediction[:5])"
   ]
  },
  {
   "cell_type": "code",
   "execution_count": 2,
   "metadata": {},
   "outputs": [
    {
     "name": "stdout",
     "output_type": "stream",
     "text": [
      "Epoch    0/1000 cost : 0.539713 - Accuracy 83.33%\n",
      "Epoch  100/1000 cost : 0.134272 - Accuracy 100.00%\n",
      "Epoch  200/1000 cost : 0.080486 - Accuracy 100.00%\n",
      "Epoch  300/1000 cost : 0.057820 - Accuracy 100.00%\n",
      "Epoch  400/1000 cost : 0.045251 - Accuracy 100.00%\n",
      "Epoch  500/1000 cost : 0.037228 - Accuracy 100.00%\n",
      "Epoch  600/1000 cost : 0.031649 - Accuracy 100.00%\n",
      "Epoch  700/1000 cost : 0.027538 - Accuracy 100.00%\n",
      "Epoch  800/1000 cost : 0.024381 - Accuracy 100.00%\n",
      "Epoch  900/1000 cost : 0.021877 - Accuracy 100.00%\n",
      "Epoch 1000/1000 cost : 0.019843 - Accuracy 100.00%\n"
     ]
    }
   ],
   "source": [
    "# Higher Implementation with Class\n",
    "class BinaryClassifier(nn.Module):\n",
    "    def __init__(self):\n",
    "        super().__init__()\n",
    "        self.linear = nn.Linear(2,1)\n",
    "        self.sigmoid = nn.Sigmoid()\n",
    "        \n",
    "    def forward(self,x):\n",
    "        return self.sigmoid(self.linear(x))\n",
    "    \n",
    "# Define Model\n",
    "model = BinaryClassifier()\n",
    "\n",
    "# Set optimizer\n",
    "optimizer = optim.SGD(model.parameters(),lr=1)\n",
    "\n",
    "nb_epochs = 1000\n",
    "for epoch in range(nb_epochs+1):\n",
    "    # get H(x)\n",
    "    hypothesis = model(x_train)\n",
    "    \n",
    "    # get Cost\n",
    "    cost = F.binary_cross_entropy(hypothesis, y_train)\n",
    "    \n",
    "    # Update H(x) from cost\n",
    "    optimizer.zero_grad()\n",
    "    cost.backward()\n",
    "    optimizer.step()\n",
    "    \n",
    "    # show logs each hundreds\n",
    "    if epoch % 100 == 0:\n",
    "        prediction = hypothesis >= torch.FloatTensor([0.5])\n",
    "        correct_prediction = prediction.float() == y_train\n",
    "        accuracy = correct_prediction.sum().item() / len(correct_prediction)\n",
    "        print('Epoch {:4d}/{} cost : {:.6f} - Accuracy {:2.2f}%'.format(\n",
    "            epoch, nb_epochs, cost.item(), accuracy*100))"
   ]
  },
  {
   "cell_type": "code",
   "execution_count": null,
   "metadata": {},
   "outputs": [],
   "source": []
  }
 ],
 "metadata": {
  "kernelspec": {
   "display_name": "Python 3",
   "language": "python",
   "name": "python3"
  },
  "language_info": {
   "codemirror_mode": {
    "name": "ipython",
    "version": 3
   },
   "file_extension": ".py",
   "mimetype": "text/x-python",
   "name": "python",
   "nbconvert_exporter": "python",
   "pygments_lexer": "ipython3",
   "version": "3.6.9"
  }
 },
 "nbformat": 4,
 "nbformat_minor": 4
}
