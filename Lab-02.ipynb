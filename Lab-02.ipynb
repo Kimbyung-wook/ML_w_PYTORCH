{
 "cells": [
  {
   "cell_type": "code",
   "execution_count": 1,
   "metadata": {},
   "outputs": [],
   "source": [
    "import torch\n",
    "import torch.optim as optim\n",
    "import numpy as np"
   ]
  },
  {
   "cell_type": "code",
   "execution_count": 2,
   "metadata": {},
   "outputs": [
    {
     "name": "stdout",
     "output_type": "stream",
     "text": [
      "tensor([[2.],\n",
      "        [3.],\n",
      "        [4.]]) tensor([[2.],\n",
      "        [4.],\n",
      "        [6.]])\n",
      "tensor([0.], requires_grad=True) tensor([0.], requires_grad=True)\n"
     ]
    }
   ],
   "source": [
    "# 1. Define Data\n",
    "x_train = torch.FloatTensor([[1],[2],[3]]) + 1\n",
    "y_train = torch.FloatTensor([[2],[4],[6]])\n",
    "print(x_train,y_train)\n",
    "\n",
    "# 2. Initialize Hypothesis\n",
    "W = torch.zeros(1, requires_grad=True)\n",
    "b = torch.zeros(1, requires_grad=True)\n",
    "print(W,b)\n",
    "hypothesis = W * x_train + b\n",
    "\n",
    "# compute loss\n",
    "cost = torch.mean((hypothesis - y_train)**2)"
   ]
  },
  {
   "cell_type": "code",
   "execution_count": 3,
   "metadata": {},
   "outputs": [],
   "source": [
    "# 3. Define Optimizer\n",
    "# Gradient descent\n",
    "optimizer = optim.SGD([W,b],lr=0.01)\n"
   ]
  },
  {
   "cell_type": "code",
   "execution_count": 4,
   "metadata": {},
   "outputs": [
    {
     "name": "stdout",
     "output_type": "stream",
     "text": [
      "Epoch 1 - cost 18.666666 : 0.266667 * x + 0.080000\n",
      "Epoch 1 - cost 0.306833 : 1.342128 * x + 0.106023\n",
      "Epoch 1 - cost 0.238570 : 1.419906 * x + -0.142965\n",
      "Epoch 1 - cost 0.185494 : 1.488488 * x + -0.362516\n",
      "Epoch 1 - cost 0.144226 : 1.548963 * x + -0.556110\n",
      "Epoch 1 - cost 0.112139 : 1.602287 * x + -0.726816\n",
      "Epoch 1 - cost 0.087191 : 1.649307 * x + -0.877340\n",
      "Epoch 1 - cost 0.067793 : 1.690769 * x + -1.010069\n",
      "Epoch 1 - cost 0.052711 : 1.727328 * x + -1.127105\n",
      "Epoch 1 - cost 0.040984 : 1.759565 * x + -1.230304\n",
      "Epoch 1 - cost 0.031866 : 1.787991 * x + -1.321303\n",
      "Epoch 1 - cost 0.024777 : 1.813056 * x + -1.401542\n",
      "Epoch 1 - cost 0.019264 : 1.835158 * x + -1.472296\n",
      "Epoch 1 - cost 0.014979 : 1.854646 * x + -1.534684\n",
      "Epoch 1 - cost 0.011646 : 1.871831 * x + -1.589697\n",
      "Epoch 1 - cost 0.009055 : 1.886984 * x + -1.638205\n",
      "Epoch 1 - cost 0.007041 : 1.900345 * x + -1.680979\n",
      "Epoch 1 - cost 0.005474 : 1.912127 * x + -1.718696\n",
      "Epoch 1 - cost 0.004256 : 1.922516 * x + -1.751953\n",
      "Epoch 1 - cost 0.003309 : 1.931677 * x + -1.781279\n"
     ]
    }
   ],
   "source": [
    "nb_epochs = 2000\n",
    "for epoch in range(1, nb_epochs + 1):\n",
    "    hypothesis = W * x_train + b\n",
    "    cost = torch.mean((hypothesis - y_train)**2)\n",
    "    \n",
    "    optimizer.zero_grad()\n",
    "    cost.backward()\n",
    "    optimizer.step()\n",
    "    \n",
    "    if (epoch % 100) is 1 :\n",
    "        print('Epoch %d - cost %f : %f * x + %f' %(epoch % 100,cost ,W ,b ))\n",
    "        #print('Cost : ',cost)\n",
    "        #print('')"
   ]
  },
  {
   "cell_type": "code",
   "execution_count": null,
   "metadata": {},
   "outputs": [],
   "source": []
  }
 ],
 "metadata": {
  "kernelspec": {
   "display_name": "Python 3",
   "language": "python",
   "name": "python3"
  },
  "language_info": {
   "codemirror_mode": {
    "name": "ipython",
    "version": 3
   },
   "file_extension": ".py",
   "mimetype": "text/x-python",
   "name": "python",
   "nbconvert_exporter": "python",
   "pygments_lexer": "ipython3",
   "version": "3.6.9"
  }
 },
 "nbformat": 4,
 "nbformat_minor": 4
}
