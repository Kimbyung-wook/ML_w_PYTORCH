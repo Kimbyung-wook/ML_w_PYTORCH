{
 "cells": [
  {
   "cell_type": "code",
   "execution_count": 1,
   "metadata": {},
   "outputs": [],
   "source": [
    "import torch\n",
    "import torch.nn as nn\n",
    "import torch.nn.functional as F\n",
    "\n",
    "# inherit nn.modules\n",
    "class MultiVariateLienarRegressionModel(nn.Module):\n",
    "    def __init__(self):\n",
    "        super().__init__()\n",
    "        self.linear = nn.Linear(3,1)\n",
    "        # Linear Model\n",
    "        # input elements  : 3\n",
    "        # output elements : 1\n",
    "        \n",
    "    # Hypothesis\n",
    "    def forward(self, x):\n",
    "        return self.linear(x)"
   ]
  },
  {
   "cell_type": "code",
   "execution_count": 2,
   "metadata": {},
   "outputs": [],
   "source": [
    "# 2. Initiallize Model\n",
    "model = MultiVariateLienarRegressionModel()\n",
    "\n",
    "# 3. Set optimizer\n",
    "optimizer = torch.optim.SGD(model.parameters(), lr=1e-5)"
   ]
  },
  {
   "cell_type": "code",
   "execution_count": 3,
   "metadata": {},
   "outputs": [],
   "source": [
    "from torch.utils.data import Dataset\n",
    "class CustomDataset(Dataset):\n",
    "    def __init__(self):\n",
    "        self.x_data = ([[73, 80, 75],\n",
    "                        [93, 88, 93],\n",
    "                        [89, 91, 91],\n",
    "                        [96, 98, 100],\n",
    "                        [73, 66, 70]])\n",
    "        self.y_data =  ([152],[185],[180],[196],[142])\n",
    "        \n",
    "    def __len__(self):\n",
    "        return len(self.x_data)\n",
    "    \n",
    "    def __getitem__(self, idx):\n",
    "        x = torch.FloatTensor(self.x_data[idx])\n",
    "        y = torch.FloatTensor(self.y_data[idx])\n",
    "        \n",
    "        return x,y\n",
    "dataset = CustomDataset()"
   ]
  },
  {
   "cell_type": "code",
   "execution_count": 4,
   "metadata": {},
   "outputs": [],
   "source": [
    "from torch.utils.data import DataLoader\n",
    "\n",
    "dataloader = DataLoader(\n",
    "    dataset,\n",
    "    batch_size=2,\n",
    "    shuffle=True,\n",
    ")"
   ]
  },
  {
   "cell_type": "code",
   "execution_count": 5,
   "metadata": {},
   "outputs": [
    {
     "name": "stdout",
     "output_type": "stream",
     "text": [
      "Epoch    0/20 H(x) 1 cost : 38087.058594\n",
      "Epoch    0/20 H(x) 2 cost : 12067.744141\n",
      "Epoch    0/20 H(x) 3 cost : 4332.999512\n",
      "Epoch    1/20 H(x) 1 cost : 1097.138916\n",
      "Epoch    1/20 H(x) 2 cost : 374.277283\n",
      "Epoch    1/20 H(x) 3 cost : 105.812691\n",
      "Epoch    2/20 H(x) 1 cost : 36.584312\n",
      "Epoch    2/20 H(x) 2 cost : 4.590701\n",
      "Epoch    2/20 H(x) 3 cost : 18.208317\n",
      "Epoch    3/20 H(x) 1 cost : 1.847717\n",
      "Epoch    3/20 H(x) 2 cost : 5.396297\n",
      "Epoch    3/20 H(x) 3 cost : 0.091879\n",
      "Epoch    4/20 H(x) 1 cost : 2.718322\n",
      "Epoch    4/20 H(x) 2 cost : 2.486007\n",
      "Epoch    4/20 H(x) 3 cost : 7.948397\n",
      "Epoch    5/20 H(x) 1 cost : 5.919595\n",
      "Epoch    5/20 H(x) 2 cost : 0.234036\n",
      "Epoch    5/20 H(x) 3 cost : 4.492762\n",
      "Epoch    6/20 H(x) 1 cost : 0.723604\n",
      "Epoch    6/20 H(x) 2 cost : 5.612358\n",
      "Epoch    6/20 H(x) 3 cost : 2.151717\n",
      "Epoch    7/20 H(x) 1 cost : 5.404661\n",
      "Epoch    7/20 H(x) 2 cost : 0.404263\n",
      "Epoch    7/20 H(x) 3 cost : 3.866669\n",
      "Epoch    8/20 H(x) 1 cost : 6.041255\n",
      "Epoch    8/20 H(x) 2 cost : 2.007443\n",
      "Epoch    8/20 H(x) 3 cost : 3.215886\n",
      "Epoch    9/20 H(x) 1 cost : 2.621742\n",
      "Epoch    9/20 H(x) 2 cost : 0.620260\n",
      "Epoch    9/20 H(x) 3 cost : 10.405192\n",
      "Epoch   10/20 H(x) 1 cost : 2.028726\n",
      "Epoch   10/20 H(x) 2 cost : 4.352643\n",
      "Epoch   10/20 H(x) 3 cost : 7.139568\n",
      "Epoch   11/20 H(x) 1 cost : 1.905339\n",
      "Epoch   11/20 H(x) 2 cost : 4.718794\n",
      "Epoch   11/20 H(x) 3 cost : 3.814876\n",
      "Epoch   12/20 H(x) 1 cost : 2.348645\n",
      "Epoch   12/20 H(x) 2 cost : 5.558435\n",
      "Epoch   12/20 H(x) 3 cost : 0.189090\n",
      "Epoch   13/20 H(x) 1 cost : 1.503067\n",
      "Epoch   13/20 H(x) 2 cost : 6.089210\n",
      "Epoch   13/20 H(x) 3 cost : 3.895528\n",
      "Epoch   14/20 H(x) 1 cost : 1.855699\n",
      "Epoch   14/20 H(x) 2 cost : 4.371105\n",
      "Epoch   14/20 H(x) 3 cost : 4.765083\n",
      "Epoch   15/20 H(x) 1 cost : 2.424091\n",
      "Epoch   15/20 H(x) 2 cost : 5.110033\n",
      "Epoch   15/20 H(x) 3 cost : 2.668170\n",
      "Epoch   16/20 H(x) 1 cost : 5.317045\n",
      "Epoch   16/20 H(x) 2 cost : 2.429629\n",
      "Epoch   16/20 H(x) 3 cost : 1.776178\n",
      "Epoch   17/20 H(x) 1 cost : 2.170708\n",
      "Epoch   17/20 H(x) 2 cost : 5.479260\n",
      "Epoch   17/20 H(x) 3 cost : 0.170602\n",
      "Epoch   18/20 H(x) 1 cost : 2.483783\n",
      "Epoch   18/20 H(x) 2 cost : 7.733771\n",
      "Epoch   18/20 H(x) 3 cost : 0.000180\n",
      "Epoch   19/20 H(x) 1 cost : 3.694063\n",
      "Epoch   19/20 H(x) 2 cost : 5.560074\n",
      "Epoch   19/20 H(x) 3 cost : 1.224964\n",
      "Epoch   20/20 H(x) 1 cost : 3.202288\n",
      "Epoch   20/20 H(x) 2 cost : 3.414021\n",
      "Epoch   20/20 H(x) 3 cost : 4.325075\n"
     ]
    }
   ],
   "source": [
    "nb_epochs = 20\n",
    "for epoch in range(nb_epochs + 1):\n",
    "    for batch_idx, samples in enumerate(dataloader):\n",
    "        x_train, y_train = samples\n",
    "        \n",
    "        # get H(x)\n",
    "        prediction = model(x_train)\n",
    "        \n",
    "        # get Cost\n",
    "        cost = F.mse_loss(prediction, y_train)\n",
    "        \n",
    "        # Update H(x) from Cost\n",
    "        optimizer.zero_grad()\n",
    "        cost.backward()\n",
    "        optimizer.step()\n",
    "        \n",
    "        print('Epoch {:4d}/{} H(x) {} cost : {:.6f}'.format(\n",
    "            epoch, nb_epochs, batch_idx+1 , cost.item()))"
   ]
  },
  {
   "cell_type": "code",
   "execution_count": null,
   "metadata": {},
   "outputs": [],
   "source": []
  }
 ],
 "metadata": {
  "kernelspec": {
   "display_name": "Python 3",
   "language": "python",
   "name": "python3"
  },
  "language_info": {
   "codemirror_mode": {
    "name": "ipython",
    "version": 3
   },
   "file_extension": ".py",
   "mimetype": "text/x-python",
   "name": "python",
   "nbconvert_exporter": "python",
   "pygments_lexer": "ipython3",
   "version": "3.6.9"
  }
 },
 "nbformat": 4,
 "nbformat_minor": 4
}
