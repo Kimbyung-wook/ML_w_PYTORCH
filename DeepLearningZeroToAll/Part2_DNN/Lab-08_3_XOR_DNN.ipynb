{
 "cells": [
  {
   "cell_type": "code",
   "execution_count": 1,
   "metadata": {},
   "outputs": [],
   "source": [
    "import numpy\n",
    "import torch"
   ]
  },
  {
   "cell_type": "code",
   "execution_count": 2,
   "metadata": {},
   "outputs": [],
   "source": [
    "device = 'cuda' if torch.cuda.is_available() else 'cpu'\n",
    "\n",
    "# for reproducibility\n",
    "torch.manual_seed(777)\n",
    "if device == 'cuda':\n",
    "    torch.cuda.manual_seed_all(777)"
   ]
  },
  {
   "cell_type": "code",
   "execution_count": 3,
   "metadata": {},
   "outputs": [
    {
     "name": "stdout",
     "output_type": "stream",
     "text": [
      "tensor([[0., 0.],\n",
      "        [0., 1.],\n",
      "        [1., 0.],\n",
      "        [1., 1.]], device='cuda:0')\n",
      "tensor([[0.],\n",
      "        [1.],\n",
      "        [1.],\n",
      "        [0.]], device='cuda:0')\n"
     ]
    }
   ],
   "source": [
    "X = torch.FloatTensor([0,0, 0,1, 1,0, 1,1]).reshape(-1,2).to(device)\n",
    "Y = torch.FloatTensor([0,1,1,0]).reshape(-1,1).to(device)\n",
    "print(X)\n",
    "print(Y)"
   ]
  },
  {
   "cell_type": "code",
   "execution_count": 4,
   "metadata": {},
   "outputs": [],
   "source": [
    "# nn layers\n",
    "linear1 = torch.nn.Linear(2,10,bias=True)\n",
    "linear2 = torch.nn.Linear(10,10,bias=True)\n",
    "linear3 = torch.nn.Linear(10,10,bias=True)\n",
    "linear4 = torch.nn.Linear(10,1,bias=True)\n",
    "sigmoid = torch.nn.Sigmoid()\n",
    "\n",
    "# model\n",
    "model = torch.nn.Sequential(linear1,sigmoid,linear2,sigmoid,\n",
    "                            linear3,sigmoid,linear4,sigmoid).to(device)"
   ]
  },
  {
   "cell_type": "code",
   "execution_count": 5,
   "metadata": {},
   "outputs": [],
   "source": [
    "# Define cost/loss & Optimizer\n",
    "criterion = torch.nn.BCELoss().to(device)\n",
    "optimizer = torch.optim.SGD(model.parameters(),lr=1)"
   ]
  },
  {
   "cell_type": "code",
   "execution_count": 6,
   "metadata": {},
   "outputs": [
    {
     "name": "stdout",
     "output_type": "stream",
     "text": [
      "Step      1 - log(Cost) -0.3664659677\n",
      "Step      2 - log(Cost) -0.3664966656\n",
      "Step      3 - log(Cost) -0.3664970096\n",
      "Step      4 - log(Cost) -0.3664970096\n",
      "Step      5 - log(Cost) -0.3664970956\n",
      "Step      6 - log(Cost) -0.3664971815\n",
      "Step      7 - log(Cost) -0.3664972675\n",
      "Step      8 - log(Cost) -0.3664972675\n",
      "Step      9 - log(Cost) -0.3664972675\n",
      "Step     10 - log(Cost) -0.3664972675\n",
      "Step     20 - log(Cost) -0.3664976975\n",
      "Step     30 - log(Cost) -0.3664980414\n",
      "Step     40 - log(Cost) -0.3664984714\n",
      "Step     50 - log(Cost) -0.3664986434\n",
      "Step     60 - log(Cost) -0.3664990733\n",
      "Step     70 - log(Cost) -0.3664995033\n",
      "Step     80 - log(Cost) -0.3664997612\n",
      "Step     90 - log(Cost) -0.3665001052\n",
      "Step    100 - log(Cost) -0.3665003632\n",
      "Step    200 - log(Cost) -0.3665038028\n",
      "Step    300 - log(Cost) -0.3665068125\n",
      "Step    400 - log(Cost) -0.3665098222\n",
      "Step    500 - log(Cost) -0.3665127459\n",
      "Step    600 - log(Cost) -0.3665154976\n",
      "Step    700 - log(Cost) -0.3665182493\n",
      "Step    800 - log(Cost) -0.3665208291\n",
      "Step    900 - log(Cost) -0.3665235808\n",
      "Step   1000 - log(Cost) -0.3665261606\n",
      "Step   2000 - log(Cost) -0.3665562584\n",
      "Step   3000 - log(Cost) -0.3666151667\n",
      "Step   4000 - log(Cost) -0.3668546197\n",
      "Step   5000 - log(Cost) -0.3826058345\n",
      "Step   6000 - log(Cost) -6.6442771795\n",
      "Step   7000 - log(Cost) -7.6335357810\n",
      "Step   8000 - log(Cost) -8.1482884521\n",
      "Step   9000 - log(Cost) -8.4973736765\n",
      "Step  10000 - log(Cost) -8.7612829090\n"
     ]
    }
   ],
   "source": [
    "digits = 0.1\n",
    "MaxQ = 0\n",
    "for step in range(10001):\n",
    "    \n",
    "    optimizer.zero_grad()\n",
    "    hypothesis = model(X)\n",
    "    \n",
    "    # cost/loss function\n",
    "    cost = criterion(hypothesis, Y)\n",
    "    cost.backward()\n",
    "    optimizer.step()\n",
    "    \n",
    "    quotient = int(step / digits)\n",
    "    if(quotient >= 10):\n",
    "        digits *= 10\n",
    "    \n",
    "    quotient = int(step / digits)\n",
    "    if(MaxQ != quotient):\n",
    "        print('Step {:6d} - log(Cost) {:.10f}'.format(\n",
    "            step,numpy.log(cost.item())))\n",
    "        MaxQ = quotient"
   ]
  },
  {
   "cell_type": "code",
   "execution_count": 7,
   "metadata": {},
   "outputs": [
    {
     "name": "stdout",
     "output_type": "stream",
     "text": [
      "\n",
      "Hypothesis:  [[1.11791465e-04]\n",
      " [9.99828696e-01]\n",
      " [9.99842167e-01]\n",
      " [1.85544617e-04]] \n",
      "Correct:  [[0.]\n",
      " [1.]\n",
      " [1.]\n",
      " [0.]] \n",
      "Accuracy:  1.0\n"
     ]
    }
   ],
   "source": [
    "# Accuracy computation\n",
    "# True if hypothesis>0.5 else False\n",
    "with torch.no_grad():\n",
    "    hypothesis = model(X)\n",
    "    predicted = (hypothesis > 0.5).float()\n",
    "    accuracy = (predicted == Y).float().mean()\n",
    "    print('\\nHypothesis: ', hypothesis.detach().cpu().numpy(),\n",
    "          '\\nCorrect: ', predicted.detach().cpu().numpy(),\n",
    "          '\\nAccuracy: ', accuracy.item())"
   ]
  },
  {
   "cell_type": "code",
   "execution_count": null,
   "metadata": {},
   "outputs": [],
   "source": []
  }
 ],
 "metadata": {
  "kernelspec": {
   "display_name": "Python 3",
   "language": "python",
   "name": "python3"
  },
  "language_info": {
   "codemirror_mode": {
    "name": "ipython",
    "version": 3
   },
   "file_extension": ".py",
   "mimetype": "text/x-python",
   "name": "python",
   "nbconvert_exporter": "python",
   "pygments_lexer": "ipython3",
   "version": "3.6.9"
  }
 },
 "nbformat": 4,
 "nbformat_minor": 4
}
