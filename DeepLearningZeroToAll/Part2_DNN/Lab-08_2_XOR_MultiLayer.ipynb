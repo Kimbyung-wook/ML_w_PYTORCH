{
 "cells": [
  {
   "cell_type": "code",
   "execution_count": 1,
   "metadata": {},
   "outputs": [],
   "source": [
    "import numpy\n",
    "import torch"
   ]
  },
  {
   "cell_type": "code",
   "execution_count": 2,
   "metadata": {},
   "outputs": [],
   "source": [
    "device = 'cuda' if torch.cuda.is_available() else 'cpu'\n",
    "\n",
    "# for reproducibility\n",
    "torch.manual_seed(777)\n",
    "if device == 'cuda':\n",
    "    torch.cuda.manual_seed_all(777)"
   ]
  },
  {
   "cell_type": "code",
   "execution_count": 3,
   "metadata": {},
   "outputs": [
    {
     "name": "stdout",
     "output_type": "stream",
     "text": [
      "tensor([[0., 0.],\n",
      "        [0., 1.],\n",
      "        [1., 0.],\n",
      "        [1., 1.]], device='cuda:0')\n",
      "tensor([[0.],\n",
      "        [1.],\n",
      "        [1.],\n",
      "        [0.]], device='cuda:0')\n"
     ]
    }
   ],
   "source": [
    "X = torch.FloatTensor([0,0, 0,1, 1,0, 1,1]).reshape(-1,2).to(device)\n",
    "Y = torch.FloatTensor([0,1,1,0]).reshape(-1,1).to(device)\n",
    "print(X)\n",
    "print(Y)"
   ]
  },
  {
   "cell_type": "code",
   "execution_count": 4,
   "metadata": {},
   "outputs": [],
   "source": [
    "# nn layers\n",
    "linear1 = torch.nn.Linear(2,2,bias=True)\n",
    "linear2 = torch.nn.Linear(2,1,bias=True)\n",
    "sigmoid = torch.nn.Sigmoid()\n",
    "\n",
    "# model\n",
    "model = torch.nn.Sequential(linear1,sigmoid,linear2,sigmoid).to(device)"
   ]
  },
  {
   "cell_type": "code",
   "execution_count": 5,
   "metadata": {},
   "outputs": [],
   "source": [
    "# Define cost/loss & Optimizer\n",
    "criterion = torch.nn.BCELoss().to(device)\n",
    "optimizer = torch.optim.SGD(model.parameters(),lr=1)"
   ]
  },
  {
   "cell_type": "code",
   "execution_count": 6,
   "metadata": {},
   "outputs": [
    {
     "name": "stdout",
     "output_type": "stream",
     "text": [
      "Step      1 - log(Cost) -0.3408580850\n",
      "Step      2 - log(Cost) -0.3575066212\n",
      "Step      3 - log(Cost) -0.3633899509\n",
      "Step      4 - log(Cost) -0.3654205649\n",
      "Step      5 - log(Cost) -0.3661153730\n",
      "Step      6 - log(Cost) -0.3663522989\n",
      "Step      7 - log(Cost) -0.3664331211\n",
      "Step      8 - log(Cost) -0.3664606365\n",
      "Step      9 - log(Cost) -0.3664700951\n",
      "Step     10 - log(Cost) -0.3664733626\n",
      "Step     20 - log(Cost) -0.3664765442\n",
      "Step     30 - log(Cost) -0.3664780060\n",
      "Step     40 - log(Cost) -0.3664794678\n",
      "Step     50 - log(Cost) -0.3664808436\n",
      "Step     60 - log(Cost) -0.3664820474\n",
      "Step     70 - log(Cost) -0.3664834232\n",
      "Step     80 - log(Cost) -0.3664847131\n",
      "Step     90 - log(Cost) -0.3664858309\n",
      "Step    100 - log(Cost) -0.3664871208\n",
      "Step    200 - log(Cost) -0.3664976115\n",
      "Step    300 - log(Cost) -0.3665063825\n",
      "Step    400 - log(Cost) -0.3665141217\n",
      "Step    500 - log(Cost) -0.3665216890\n",
      "Step    600 - log(Cost) -0.3665294283\n",
      "Step    700 - log(Cost) -0.3665383716\n",
      "Step    800 - log(Cost) -0.3665490348\n",
      "Step    900 - log(Cost) -0.3665627081\n",
      "Step   1000 - log(Cost) -0.3665810253\n",
      "Step   2000 - log(Cost) -0.3800434563\n",
      "Step   3000 - log(Cost) -4.2698540918\n",
      "Step   4000 - log(Cost) -5.1553649470\n",
      "Step   5000 - log(Cost) -5.6266174213\n",
      "Step   6000 - log(Cost) -5.9485396484\n",
      "Step   7000 - log(Cost) -6.1930351618\n",
      "Step   8000 - log(Cost) -6.3900945514\n",
      "Step   9000 - log(Cost) -6.5551168124\n",
      "Step  10000 - log(Cost) -6.6970739964\n"
     ]
    }
   ],
   "source": [
    "digits = 0.1\n",
    "MaxQ = 0\n",
    "for step in range(10001):\n",
    "    \n",
    "    optimizer.zero_grad()\n",
    "    hypothesis = model(X)\n",
    "    \n",
    "    # cost/loss function\n",
    "    cost = criterion(hypothesis, Y)\n",
    "    cost.backward()\n",
    "    optimizer.step()\n",
    "    \n",
    "    quotient = int(step / digits)\n",
    "    if(quotient >= 10):\n",
    "        digits *= 10\n",
    "    \n",
    "    quotient = int(step / digits)\n",
    "    if(MaxQ != quotient):\n",
    "        print('Step {:6d} - log(Cost) {:.10f}'.format(\n",
    "            step,numpy.log(cost.item())))\n",
    "        MaxQ = quotient"
   ]
  },
  {
   "cell_type": "code",
   "execution_count": 7,
   "metadata": {},
   "outputs": [
    {
     "name": "stdout",
     "output_type": "stream",
     "text": [
      "\n",
      "Hypothesis:  [[0.00106364]\n",
      " [0.99889404]\n",
      " [0.99889404]\n",
      " [0.00165861]] \n",
      "Correct:  [[0.]\n",
      " [1.]\n",
      " [1.]\n",
      " [0.]] \n",
      "Accuracy:  1.0\n"
     ]
    }
   ],
   "source": [
    "# Accuracy computation\n",
    "# True if hypothesis>0.5 else False\n",
    "with torch.no_grad():\n",
    "    hypothesis = model(X)\n",
    "    predicted = (hypothesis > 0.5).float()\n",
    "    accuracy = (predicted == Y).float().mean()\n",
    "    print('\\nHypothesis: ', hypothesis.detach().cpu().numpy(),\n",
    "          '\\nCorrect: ', predicted.detach().cpu().numpy(),\n",
    "          '\\nAccuracy: ', accuracy.item())"
   ]
  },
  {
   "cell_type": "code",
   "execution_count": null,
   "metadata": {},
   "outputs": [],
   "source": []
  }
 ],
 "metadata": {
  "kernelspec": {
   "display_name": "Python 3",
   "language": "python",
   "name": "python3"
  },
  "language_info": {
   "codemirror_mode": {
    "name": "ipython",
    "version": 3
   },
   "file_extension": ".py",
   "mimetype": "text/x-python",
   "name": "python",
   "nbconvert_exporter": "python",
   "pygments_lexer": "ipython3",
   "version": "3.6.9"
  }
 },
 "nbformat": 4,
 "nbformat_minor": 4
}
