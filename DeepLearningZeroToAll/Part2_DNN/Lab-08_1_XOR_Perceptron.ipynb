{
 "cells": [
  {
   "cell_type": "code",
   "execution_count": 1,
   "metadata": {},
   "outputs": [],
   "source": [
    "import numpy\n",
    "import torch"
   ]
  },
  {
   "cell_type": "code",
   "execution_count": 2,
   "metadata": {},
   "outputs": [],
   "source": [
    "device = 'cuda' if torch.cuda.is_available() else 'cpu'\n",
    "\n",
    "# for reproducibility\n",
    "torch.manual_seed(777)\n",
    "if device == 'cuda':\n",
    "    torch.cuda.manual_seed_all(777)"
   ]
  },
  {
   "cell_type": "code",
   "execution_count": 3,
   "metadata": {},
   "outputs": [
    {
     "name": "stdout",
     "output_type": "stream",
     "text": [
      "tensor([[0., 0.],\n",
      "        [0., 1.],\n",
      "        [1., 0.],\n",
      "        [1., 1.]], device='cuda:0')\n",
      "tensor([[0.],\n",
      "        [1.],\n",
      "        [1.],\n",
      "        [0.]], device='cuda:0')\n"
     ]
    }
   ],
   "source": [
    "X = torch.FloatTensor([0,0, 0,1, 1,0, 1,1]).reshape(-1,2).to(device)\n",
    "Y = torch.FloatTensor([0,1,1,0]).reshape(-1,1).to(device)\n",
    "print(X)\n",
    "print(Y)"
   ]
  },
  {
   "cell_type": "code",
   "execution_count": 4,
   "metadata": {},
   "outputs": [],
   "source": [
    "# nn layers\n",
    "linear = torch.nn.Linear(2,1,bias=True)\n",
    "sigmoid = torch.nn.Sigmoid()\n",
    "model = torch.nn.Sequential(linear,sigmoid).to(device)"
   ]
  },
  {
   "cell_type": "code",
   "execution_count": 5,
   "metadata": {},
   "outputs": [],
   "source": [
    "# Define cost/loss & Optimizer\n",
    "criterion = torch.nn.BCELoss().to(device)\n",
    "optimizer = torch.optim.SGD(model.parameters(),lr=1)"
   ]
  },
  {
   "cell_type": "code",
   "execution_count": 13,
   "metadata": {},
   "outputs": [
    {
     "name": "stdout",
     "output_type": "stream",
     "text": [
      "1 0 Step      1 - log(Cost) -0.3665129178\n",
      "2 1 Step      2 - log(Cost) -0.3665129178\n",
      "3 2 Step      3 - log(Cost) -0.3665129178\n",
      "4 3 Step      4 - log(Cost) -0.3665129178\n",
      "5 4 Step      5 - log(Cost) -0.3665129178\n",
      "6 5 Step      6 - log(Cost) -0.3665129178\n",
      "7 6 Step      7 - log(Cost) -0.3665129178\n",
      "8 7 Step      8 - log(Cost) -0.3665129178\n",
      "9 8 Step      9 - log(Cost) -0.3665129178\n",
      "1 9 Step     10 - log(Cost) -0.3665129178\n",
      "2 1 Step     20 - log(Cost) -0.3665129178\n",
      "3 2 Step     30 - log(Cost) -0.3665129178\n",
      "4 3 Step     40 - log(Cost) -0.3665129178\n",
      "5 4 Step     50 - log(Cost) -0.3665129178\n",
      "6 5 Step     60 - log(Cost) -0.3665129178\n",
      "7 6 Step     70 - log(Cost) -0.3665129178\n",
      "8 7 Step     80 - log(Cost) -0.3665129178\n",
      "9 8 Step     90 - log(Cost) -0.3665129178\n",
      "1 9 Step    100 - log(Cost) -0.3665129178\n",
      "2 1 Step    200 - log(Cost) -0.3665129178\n",
      "3 2 Step    300 - log(Cost) -0.3665129178\n",
      "4 3 Step    400 - log(Cost) -0.3665129178\n",
      "5 4 Step    500 - log(Cost) -0.3665129178\n",
      "6 5 Step    600 - log(Cost) -0.3665129178\n",
      "7 6 Step    700 - log(Cost) -0.3665129178\n",
      "8 7 Step    800 - log(Cost) -0.3665129178\n",
      "9 8 Step    900 - log(Cost) -0.3665129178\n",
      "1 9 Step   1000 - log(Cost) -0.3665129178\n",
      "2 1 Step   2000 - log(Cost) -0.3665129178\n",
      "3 2 Step   3000 - log(Cost) -0.3665129178\n",
      "4 3 Step   4000 - log(Cost) -0.3665129178\n",
      "5 4 Step   5000 - log(Cost) -0.3665129178\n",
      "6 5 Step   6000 - log(Cost) -0.3665129178\n",
      "7 6 Step   7000 - log(Cost) -0.3665129178\n",
      "8 7 Step   8000 - log(Cost) -0.3665129178\n",
      "9 8 Step   9000 - log(Cost) -0.3665129178\n",
      "1 9 Step  10000 - log(Cost) -0.3665129178\n"
     ]
    }
   ],
   "source": [
    "digits = 0.1\n",
    "MaxQ = 0\n",
    "for step in range(10001):\n",
    "    optimizer.zero_grad()\n",
    "    hypothesis = model(X)\n",
    "    \n",
    "    # cost/loss function\n",
    "    cost = criterion(hypothesis, Y)\n",
    "    cost.backward()\n",
    "    optimizer.step()\n",
    "    \n",
    "    quotient = int(step / digits)\n",
    "    if(quotient >= 10):\n",
    "        digits *= 10\n",
    "    \n",
    "    quotient = int(step / digits)\n",
    "    if(MaxQ != quotient):\n",
    "        print('{} {} Step {:6d} - log(Cost) {:.10f}'.format(\n",
    "            quotient,MaxQ,step,numpy.log(cost.item())))\n",
    "        MaxQ = quotient"
   ]
  },
  {
   "cell_type": "code",
   "execution_count": 7,
   "metadata": {},
   "outputs": [
    {
     "name": "stdout",
     "output_type": "stream",
     "text": [
      "\n",
      "Hypothesis:  [[0.5]\n",
      " [0.5]\n",
      " [0.5]\n",
      " [0.5]] \n",
      "Correct:  [[0.]\n",
      " [0.]\n",
      " [0.]\n",
      " [0.]] \n",
      "Accuracy:  0.5\n"
     ]
    }
   ],
   "source": [
    "# Accuracy computation\n",
    "# True if hypothesis>0.5 else False\n",
    "with torch.no_grad():\n",
    "    hypothesis = model(X)\n",
    "    predicted = (hypothesis > 0.5).float()\n",
    "    accuracy = (predicted == Y).float().mean()\n",
    "    print('\\nHypothesis: ', hypothesis.detach().cpu().numpy(),\n",
    "          '\\nCorrect: ', predicted.detach().cpu().numpy(),\n",
    "          '\\nAccuracy: ', accuracy.item())"
   ]
  }
 ],
 "metadata": {
  "kernelspec": {
   "display_name": "Python 3",
   "language": "python",
   "name": "python3"
  },
  "language_info": {
   "codemirror_mode": {
    "name": "ipython",
    "version": 3
   },
   "file_extension": ".py",
   "mimetype": "text/x-python",
   "name": "python",
   "nbconvert_exporter": "python",
   "pygments_lexer": "ipython3",
   "version": "3.6.9"
  }
 },
 "nbformat": 4,
 "nbformat_minor": 4
}
