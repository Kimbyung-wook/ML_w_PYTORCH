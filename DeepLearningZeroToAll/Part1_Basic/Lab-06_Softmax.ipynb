{
 "cells": [
  {
   "cell_type": "code",
   "execution_count": 1,
   "metadata": {},
   "outputs": [
    {
     "data": {
      "text/plain": [
       "<torch._C.Generator at 0x7f5c23cd2d98>"
      ]
     },
     "execution_count": 1,
     "metadata": {},
     "output_type": "execute_result"
    }
   ],
   "source": [
    "import torch\n",
    "import torch.nn as nn\n",
    "import torch.nn.functional as F\n",
    "import torch.optim as optim\n",
    "\n",
    "# For reproductibility\n",
    "torch.manual_seed(1)"
   ]
  },
  {
   "cell_type": "code",
   "execution_count": null,
   "metadata": {},
   "outputs": [],
   "source": [
    "# Test softmax\n",
    "z = torch.FloatTensor([1,2,3])\n",
    "hypothesis = F.softmax(z, dim=0)\n",
    "print(hypothesis)"
   ]
  },
  {
   "cell_type": "code",
   "execution_count": null,
   "metadata": {},
   "outputs": [],
   "source": [
    "hypothesis.sum()"
   ]
  },
  {
   "cell_type": "code",
   "execution_count": null,
   "metadata": {},
   "outputs": [],
   "source": [
    "# Cross-entropy Loss (LOW-level)\n",
    "z = torch.rand(3,5,requires_grad=True)\n",
    "hypothesis = F.softmax(z,dim=1)\n",
    "print(hypothesis)"
   ]
  },
  {
   "cell_type": "code",
   "execution_count": null,
   "metadata": {},
   "outputs": [],
   "source": [
    "y = torch.randint(5,(3,)).long()\n",
    "print(y)"
   ]
  },
  {
   "cell_type": "code",
   "execution_count": null,
   "metadata": {},
   "outputs": [],
   "source": [
    "# Cross-entropy Loss with torch.nn.functional (HIGH-level)\n",
    "F.log_softmax(z, dim=1)\n",
    "F.nll_loss(F.log_softmax(z,dim=1),y)\n",
    "# Alternative Representation\n",
    "F.cross_entropy(z,y)"
   ]
  },
  {
   "cell_type": "code",
   "execution_count": 2,
   "metadata": {},
   "outputs": [
    {
     "name": "stdout",
     "output_type": "stream",
     "text": [
      "tensor([[1., 2., 1., 1.],\n",
      "        [2., 1., 3., 2.],\n",
      "        [3., 1., 3., 4.],\n",
      "        [4., 1., 5., 5.],\n",
      "        [1., 7., 5., 5.],\n",
      "        [1., 2., 5., 6.],\n",
      "        [1., 6., 6., 6.],\n",
      "        [1., 7., 7., 7.]])\n",
      "tensor([2, 2, 2, 1, 1, 1, 0, 0])\n"
     ]
    }
   ],
   "source": [
    "x_train = [1,2,1,1, 2,1,3,2, 3,1,3,4, 4,1,5,5, 1,7,5,5, 1,2,5,6, 1,6,6,6, 1,7,7,7]\n",
    "y_train = [2,2,2,1,1,1,0,0]\n",
    "x_train = torch.FloatTensor(x_train).reshape(-1,4)\n",
    "y_train = torch.LongTensor(y_train)\n",
    "print(x_train)\n",
    "print(y_train)"
   ]
  },
  {
   "cell_type": "code",
   "execution_count": null,
   "metadata": {},
   "outputs": [],
   "source": [
    "# Training with Low-level Cross-entropy Loss\n",
    "# Training with F.cross_entropy\n",
    "# Ininitalize Model\n",
    "W = torch.zeros([4,3],requires_grad=True)\n",
    "b = torch.zeros(1,requires_grad=True)\n",
    "# Set Optimizer\n",
    "optimizer = optim.SGD([W,b],lr = 0.01)\n",
    "\n",
    "nb_epochs = 1000\n",
    "for epoch in range(nb_epochs+1):\n",
    "    \n",
    "    # get Cost(1) - Low-level Cross Entropy Loss\n",
    "#     hypothesis = F.softmax(x_train.matmul(W)+b ,dim=1)\n",
    "#     y_one_hot = torch.zeros_like(hypothesis)\n",
    "#     y_one_hot.scatter_(1,y_train.unsqueeze(1),1)\n",
    "#     cost = (y_one_hot * -torch.log(F.softmax(hypothesis, dim=1))).sum(dim=1).mean()\n",
    "    # get Cost(2) - F.cross_entropy\n",
    "    z = x_train.matmul(W) + b\n",
    "    cost = F.cross_entropy(z,y_train)\n",
    "    \n",
    "    # Update H(x) from Cost\n",
    "    optimizer.zero_grad()\n",
    "    cost.backward()\n",
    "    optimizer.step()\n",
    "    \n",
    "    # print logs each hundreds\n",
    "    if epoch % 100 == 0:\n",
    "        print('Epoch {:4d}/{} Cost : {:.6f}'.format(\n",
    "            epoch, nb_epochs, cost.item()))"
   ]
  },
  {
   "cell_type": "code",
   "execution_count": 3,
   "metadata": {},
   "outputs": [
    {
     "name": "stdout",
     "output_type": "stream",
     "text": [
      "Epoch    0/1000 Cost : 1.616785\n",
      "Epoch  100/1000 Cost : 0.863129\n",
      "Epoch  200/1000 Cost : 0.760346\n",
      "Epoch  300/1000 Cost : 0.707353\n",
      "Epoch  400/1000 Cost : 0.669059\n",
      "Epoch  500/1000 Cost : 0.639046\n",
      "Epoch  600/1000 Cost : 0.614619\n",
      "Epoch  700/1000 Cost : 0.594219\n",
      "Epoch  800/1000 Cost : 0.576826\n",
      "Epoch  900/1000 Cost : 0.561738\n",
      "Epoch 1000/1000 Cost : 0.548455\n"
     ]
    }
   ],
   "source": [
    "# High-level Implementation with nn.Module\n",
    "class SoftmaxClassierModel(nn.Module):\n",
    "    def __init__(self):\n",
    "        super().__init__()\n",
    "        self.linear = nn.Linear(4,3)\n",
    "        \n",
    "    def forward(self,x):\n",
    "        return self.linear(x)\n",
    "model = SoftmaxClassierModel()\n",
    "optimizer = optim.SGD(model.parameters(),lr = 0.01)\n",
    "\n",
    "nb_epochs = 1000\n",
    "for epoch in range(nb_epochs+1):\n",
    "    \n",
    "    # get Cost(2) - F.cross_entropy\n",
    "    prediction = model(x_train)\n",
    "    cost = F.cross_entropy(prediction,y_train)\n",
    "    \n",
    "    # Update H(x) from Cost\n",
    "    optimizer.zero_grad()\n",
    "    cost.backward()\n",
    "    optimizer.step()\n",
    "    \n",
    "    # print logs each hundreds\n",
    "    if epoch % 100 == 0:\n",
    "        print('Epoch {:4d}/{} Cost : {:.6f}'.format(\n",
    "            epoch, nb_epochs, cost.item()))"
   ]
  },
  {
   "cell_type": "code",
   "execution_count": null,
   "metadata": {},
   "outputs": [],
   "source": []
  }
 ],
 "metadata": {
  "kernelspec": {
   "display_name": "Python 3",
   "language": "python",
   "name": "python3"
  },
  "language_info": {
   "codemirror_mode": {
    "name": "ipython",
    "version": 3
   },
   "file_extension": ".py",
   "mimetype": "text/x-python",
   "name": "python",
   "nbconvert_exporter": "python",
   "pygments_lexer": "ipython3",
   "version": "3.6.9"
  }
 },
 "nbformat": 4,
 "nbformat_minor": 4
}
