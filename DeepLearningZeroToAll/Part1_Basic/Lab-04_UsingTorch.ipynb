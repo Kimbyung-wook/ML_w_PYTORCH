{
 "cells": [
  {
   "cell_type": "code",
   "execution_count": 1,
   "metadata": {},
   "outputs": [],
   "source": [
    "import torch\n",
    "import torch.nn as nn\n",
    "import torch.nn.functional as F\n",
    "\n",
    "# inherit nn.modules\n",
    "class MultiVariateLienarRegressionModel(nn.Module):\n",
    "    def __init__(self):\n",
    "        super().__init__()\n",
    "        self.linear = nn.Linear(3,1)\n",
    "        # Linear Model\n",
    "        # input elements  : 3\n",
    "        # output elements : 1\n",
    "        \n",
    "    # Hypothesis\n",
    "    def forward(self, x):\n",
    "        return self.linear(x)"
   ]
  },
  {
   "cell_type": "code",
   "execution_count": 6,
   "metadata": {},
   "outputs": [],
   "source": [
    "# 1. Define data\n",
    "x_train = torch.FloatTensor([[73, 80, 75],\n",
    "                             [93, 88, 93],\n",
    "                             [89, 91, 91],\n",
    "                             [96, 98, 100],\n",
    "                             [73,66,70]])\n",
    "y_train = torch.FloatTensor([152,185,180,196,142]).unsqueeze_(dim=1)\n",
    "\n",
    "# 2. Initiallize Model\n",
    "model = MultiVariateLienarRegressionModel()\n",
    "\n",
    "# 3. Set optimizer\n",
    "optimizer = torch.optim.SGD(model.parameters(), lr=1e-5)"
   ]
  },
  {
   "cell_type": "code",
   "execution_count": 7,
   "metadata": {},
   "outputs": [
    {
     "name": "stdout",
     "output_type": "stream",
     "text": [
      "Epoch    0/20 H(x) tensor([ 0.2759, -0.2062, -0.3104, -1.2585,  0.9493]) cost : 29727.917969\n",
      "Epoch    1/20 H(x) tensor([67.6636, 80.7915, 79.7949, 85.6507, 62.7296]) cost : 9294.775391\n",
      "Epoch    2/20 H(x) tensor([105.3422, 126.0803, 124.5846, 134.2447,  97.2733]) cost : 2906.710205\n",
      "Epoch    3/20 H(x) tensor([126.4095, 151.4030, 149.6280, 161.4152, 116.5880]) cost : 909.592468\n",
      "Epoch    4/20 H(x) tensor([138.1889, 165.5619, 163.6307, 176.6072, 127.3877]) cost : 285.227875\n",
      "Epoch    5/20 H(x) tensor([144.7749, 173.4788, 171.4600, 185.1016, 133.4264]) cost : 90.030869\n",
      "Epoch    6/20 H(x) tensor([148.4573, 177.9055, 175.8376, 189.8510, 136.8029]) cost : 29.005451\n",
      "Epoch    7/20 H(x) tensor([150.5160, 180.3807, 178.2852, 192.5066, 138.6911]) cost : 9.926603\n",
      "Epoch    8/20 H(x) tensor([151.6670, 181.7648, 179.6538, 193.9914, 139.7469]) cost : 3.961569\n",
      "Epoch    9/20 H(x) tensor([152.3104, 182.5389, 180.4189, 194.8215, 140.3374]) cost : 2.096386\n",
      "Epoch   10/20 H(x) tensor([152.6700, 182.9718, 180.8467, 195.2857, 140.6677]) cost : 1.512926\n",
      "Epoch   11/20 H(x) tensor([152.8708, 183.2139, 181.0858, 195.5451, 140.8526]) cost : 1.330177\n",
      "Epoch   12/20 H(x) tensor([152.9830, 183.3494, 181.2195, 195.6902, 140.9561]) cost : 1.272690\n",
      "Epoch   13/20 H(x) tensor([153.0455, 183.4253, 181.2942, 195.7713, 141.0141]) cost : 1.254397\n",
      "Epoch   14/20 H(x) tensor([153.0803, 183.4679, 181.3359, 195.8166, 141.0467]) cost : 1.248321\n",
      "Epoch   15/20 H(x) tensor([153.0996, 183.4918, 181.3592, 195.8418, 141.0650]) cost : 1.246092\n",
      "Epoch   16/20 H(x) tensor([153.1103, 183.5052, 181.3721, 195.8560, 141.0755]) cost : 1.245057\n",
      "Epoch   17/20 H(x) tensor([153.1160, 183.5129, 181.3793, 195.8638, 141.0814]) cost : 1.244389\n",
      "Epoch   18/20 H(x) tensor([153.1191, 183.5172, 181.3833, 195.8682, 141.0849]) cost : 1.243851\n",
      "Epoch   19/20 H(x) tensor([153.1206, 183.5198, 181.3855, 195.8706, 141.0870]) cost : 1.243339\n",
      "Epoch   20/20 H(x) tensor([153.1213, 183.5214, 181.3867, 195.8719, 141.0883]) cost : 1.242846\n"
     ]
    }
   ],
   "source": [
    "nb_epochs = 20\n",
    "for epoch in range(nb_epochs + 1):\n",
    "    # Get H(x)\n",
    "    hypothesis = model(x_train)    \n",
    "    \n",
    "    # get Cost\n",
    "    # be able to replace another loss function (l1_loss, smooth_l1_loss)\n",
    "    cost = F.mse_loss(hypothesis, y_train)\n",
    "    \n",
    "    # Update H(x) from cost\n",
    "    optimizer.zero_grad()\n",
    "    cost.backward()\n",
    "    optimizer.step()\n",
    "    \n",
    "    print('Epoch {:4d}/{} H(x) {} cost : {:.6f}'.format(\n",
    "        epoch, nb_epochs, hypothesis.squeeze().detach(), cost.item()))"
   ]
  },
  {
   "cell_type": "code",
   "execution_count": null,
   "metadata": {},
   "outputs": [],
   "source": []
  }
 ],
 "metadata": {
  "kernelspec": {
   "display_name": "Python 3",
   "language": "python",
   "name": "python3"
  },
  "language_info": {
   "codemirror_mode": {
    "name": "ipython",
    "version": 3
   },
   "file_extension": ".py",
   "mimetype": "text/x-python",
   "name": "python",
   "nbconvert_exporter": "python",
   "pygments_lexer": "ipython3",
   "version": "3.6.9"
  }
 },
 "nbformat": 4,
 "nbformat_minor": 4
}
