{
 "cells": [
  {
   "cell_type": "code",
   "execution_count": 1,
   "metadata": {},
   "outputs": [],
   "source": [
    "import torch\n",
    "import torch.optim as optim"
   ]
  },
  {
   "cell_type": "code",
   "execution_count": 4,
   "metadata": {},
   "outputs": [
    {
     "name": "stdout",
     "output_type": "stream",
     "text": [
      "tensor([[152.],\n",
      "        [185.],\n",
      "        [180.],\n",
      "        [196.],\n",
      "        [142.]])\n"
     ]
    }
   ],
   "source": [
    "# W = torch.zeros([],require_grad=True)\n",
    "# b = torch.zeros([],require_grad=True)\n",
    "# # Set optimizer\n",
    "# optimizer = optim.SGD([W,b],lr=1e-5)\n",
    "# # How to Use Optimizer\n",
    "# optimizer.zero_grad()\n",
    "# cost.backward()\n",
    "# optimizer.step()\n",
    "\n",
    "# 1. Define data\n",
    "x_train = torch.FloatTensor([[73, 80, 75],\n",
    "                             [93, 88, 93],\n",
    "                            [89, 91, 91],\n",
    "                            [96, 98, 100],\n",
    "                            [73,66,70]])\n",
    "y_train = torch.FloatTensor([152,185,180,196,142]).unsqueeze_(dim=1)\n",
    "# print(y_train)\n",
    "\n",
    "# 2. Initialize Model\n",
    "W = torch.zeros((3,1),requires_grad=True)\n",
    "b = torch.zeros(1, requires_grad=True)\n",
    "\n",
    "# 3. Set Optimizer\n",
    "optimizer = optim.SGD([W,b], lr=1e-5)"
   ]
  },
  {
   "cell_type": "code",
   "execution_count": 12,
   "metadata": {},
   "outputs": [
    {
     "name": "stdout",
     "output_type": "stream",
     "text": [
      "Epoch    0/20 H(x) tensor([152.6715, 183.5247, 181.4931, 196.9088, 139.9862]) cost : 1.947582\n",
      "Epoch    1/20 H(x) tensor([152.6711, 183.5251, 181.4931, 196.9088, 139.9867]) cost : 1.946804\n",
      "Epoch    2/20 H(x) tensor([152.6707, 183.5255, 181.4930, 196.9087, 139.9872]) cost : 1.946057\n",
      "Epoch    3/20 H(x) tensor([152.6702, 183.5258, 181.4929, 196.9086, 139.9876]) cost : 1.945269\n",
      "Epoch    4/20 H(x) tensor([152.6698, 183.5261, 181.4927, 196.9085, 139.9881]) cost : 1.944510\n",
      "Epoch    5/20 H(x) tensor([152.6694, 183.5264, 181.4926, 196.9084, 139.9885]) cost : 1.943741\n",
      "Epoch    6/20 H(x) tensor([152.6689, 183.5267, 181.4925, 196.9083, 139.9889]) cost : 1.942975\n",
      "Epoch    7/20 H(x) tensor([152.6685, 183.5271, 181.4924, 196.9082, 139.9894]) cost : 1.942195\n",
      "Epoch    8/20 H(x) tensor([152.6680, 183.5274, 181.4922, 196.9081, 139.9898]) cost : 1.941433\n",
      "Epoch    9/20 H(x) tensor([152.6676, 183.5277, 181.4921, 196.9079, 139.9902]) cost : 1.940690\n",
      "Epoch   10/20 H(x) tensor([152.6671, 183.5280, 181.4920, 196.9078, 139.9906]) cost : 1.939904\n",
      "Epoch   11/20 H(x) tensor([152.6667, 183.5283, 181.4919, 196.9077, 139.9911]) cost : 1.939136\n",
      "Epoch   12/20 H(x) tensor([152.6662, 183.5286, 181.4917, 196.9075, 139.9915]) cost : 1.938365\n",
      "Epoch   13/20 H(x) tensor([152.6658, 183.5289, 181.4916, 196.9074, 139.9919]) cost : 1.937607\n",
      "Epoch   14/20 H(x) tensor([152.6654, 183.5292, 181.4915, 196.9073, 139.9923]) cost : 1.936832\n",
      "Epoch   15/20 H(x) tensor([152.6649, 183.5295, 181.4913, 196.9072, 139.9928]) cost : 1.936083\n",
      "Epoch   16/20 H(x) tensor([152.6645, 183.5298, 181.4912, 196.9070, 139.9932]) cost : 1.935304\n",
      "Epoch   17/20 H(x) tensor([152.6640, 183.5302, 181.4911, 196.9069, 139.9936]) cost : 1.934552\n",
      "Epoch   18/20 H(x) tensor([152.6636, 183.5305, 181.4909, 196.9068, 139.9940]) cost : 1.933781\n",
      "Epoch   19/20 H(x) tensor([152.6631, 183.5308, 181.4908, 196.9067, 139.9945]) cost : 1.933036\n",
      "Epoch   20/20 H(x) tensor([152.6627, 183.5311, 181.4907, 196.9065, 139.9949]) cost : 1.932270\n"
     ]
    }
   ],
   "source": [
    "nb_epochs = 20\n",
    "for epoch in range(nb_epochs + 1):\n",
    "    # Get H(x)\n",
    "    hypothesis = x_train.matmul(W) + b\n",
    "    # Get Cost\n",
    "    cost = torch.mean((hypothesis - y_train)**2)\n",
    "    # Update H(x) from Cost\n",
    "    optimizer.zero_grad()\n",
    "    cost.backward()\n",
    "    optimizer.step()\n",
    "    \n",
    "    print('Epoch {:4d}/{} H(x) {} cost : {:.6f}'.format(\n",
    "        epoch, nb_epochs, hypothesis.squeeze().detach(), cost.item()))"
   ]
  },
  {
   "cell_type": "code",
   "execution_count": null,
   "metadata": {},
   "outputs": [],
   "source": []
  }
 ],
 "metadata": {
  "kernelspec": {
   "display_name": "Python 3",
   "language": "python",
   "name": "python3"
  },
  "language_info": {
   "codemirror_mode": {
    "name": "ipython",
    "version": 3
   },
   "file_extension": ".py",
   "mimetype": "text/x-python",
   "name": "python",
   "nbconvert_exporter": "python",
   "pygments_lexer": "ipython3",
   "version": "3.6.9"
  }
 },
 "nbformat": 4,
 "nbformat_minor": 4
}
