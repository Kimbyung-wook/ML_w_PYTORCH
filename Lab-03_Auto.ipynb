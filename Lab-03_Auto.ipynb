{
 "cells": [
  {
   "cell_type": "code",
   "execution_count": 1,
   "metadata": {},
   "outputs": [],
   "source": [
    "# Automatically get Gradient\n",
    "import torch\n",
    "import torch.optim as optim\n",
    "import numpy as np"
   ]
  },
  {
   "cell_type": "code",
   "execution_count": 2,
   "metadata": {},
   "outputs": [
    {
     "name": "stdout",
     "output_type": "stream",
     "text": [
      "tensor([[1.],\n",
      "        [2.],\n",
      "        [3.]]) tensor([[2.],\n",
      "        [4.],\n",
      "        [6.]])\n",
      "tensor([0.], requires_grad=True)\n"
     ]
    }
   ],
   "source": [
    "# 1. Define Data\n",
    "x_train = torch.FloatTensor([[1],[2],[3]])\n",
    "y_train = torch.FloatTensor([[2],[4],[6]])\n",
    "print(x_train,y_train)\n",
    "\n",
    "# 2. Initialize Hypothesis\n",
    "W = torch.zeros(1, requires_grad=True)\n",
    "\n",
    "lr = 0.1\n",
    "\n",
    "print(W)"
   ]
  },
  {
   "cell_type": "code",
   "execution_count": 4,
   "metadata": {},
   "outputs": [
    {
     "name": "stdout",
     "output_type": "stream",
     "text": [
      "Epoch    0/10 W: 0.000, Cost: 18.666666\n",
      "Epoch    1/10 W: 2.800, Cost: 2.986668\n",
      "Epoch    2/10 W: 1.680, Cost: 0.477867\n",
      "Epoch    3/10 W: 2.128, Cost: 0.076459\n",
      "Epoch    4/10 W: 1.949, Cost: 0.012233\n",
      "Epoch    5/10 W: 2.020, Cost: 0.001957\n",
      "Epoch    6/10 W: 1.992, Cost: 0.000313\n",
      "Epoch    7/10 W: 2.003, Cost: 0.000050\n",
      "Epoch    8/10 W: 1.999, Cost: 0.000008\n",
      "Epoch    9/10 W: 2.001, Cost: 0.000001\n",
      "Epoch   10/10 W: 2.000, Cost: 0.000000\n"
     ]
    }
   ],
   "source": [
    "optimizer = torch.optim.SGD([W],lr=0.15)\n",
    "\n",
    "nb_epoch = 10\n",
    "for epoch in range(nb_epoch + 1):\n",
    "\n",
    "    # Define Hypothesis\n",
    "    hypothesis = W * x_train\n",
    "\n",
    "    # compute loss : MSE\n",
    "    cost = torch.mean((hypothesis - y_train)**2)\n",
    "    # Gradient Descent\n",
    "    \n",
    "    \n",
    "    print('Epoch {:4d}/{} W: {:.3f}, Cost: {:.6f}'.\n",
    "         format(epoch,nb_epoch,W.item(),cost.item()))\n",
    "    \n",
    "    # Update Hypothesis\n",
    "    optimizer.zero_grad()\n",
    "    cost.backward()\n",
    "    optimizer.step()"
   ]
  },
  {
   "cell_type": "code",
   "execution_count": null,
   "metadata": {},
   "outputs": [],
   "source": []
  }
 ],
 "metadata": {
  "kernelspec": {
   "display_name": "Python 3",
   "language": "python",
   "name": "python3"
  },
  "language_info": {
   "codemirror_mode": {
    "name": "ipython",
    "version": 3
   },
   "file_extension": ".py",
   "mimetype": "text/x-python",
   "name": "python",
   "nbconvert_exporter": "python",
   "pygments_lexer": "ipython3",
   "version": "3.6.9"
  }
 },
 "nbformat": 4,
 "nbformat_minor": 4
}
